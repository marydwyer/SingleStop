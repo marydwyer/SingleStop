{
 "cells": [
  {
   "cell_type": "markdown",
   "metadata": {},
   "source": [
    "Info:\n",
    "- count of DNA = 41848  (43%)\n",
    "- count of A&R = 9631  (10%)\n",
    "- count of A&A = 43693  (47%)\n",
    "\n",
    "Steps:\n",
    "- Deleted duplicates on client list to have a unique list of clients\n",
    "- Removed cases where \"current_age\" = 0 on the client list b/c those clients did not submit any relevant data\n",
    "- Added column \"applied?\" to client list that describes which category (DNA, A&R, A&A) they belong to based on \"activitytype\" and \"outcome_type\" columns in the studies list\n",
    "\n",
    "Note: Code takes a VERY long time to run! (1+ hr)"
   ]
  },
  {
   "cell_type": "code",
   "execution_count": null,
   "metadata": {
    "collapsed": true
   },
   "outputs": [],
   "source": [
    "import pandas as pd"
   ]
  },
  {
   "cell_type": "code",
   "execution_count": null,
   "metadata": {},
   "outputs": [],
   "source": [
    "client = pd.read_csv(\"Unique Client Data.csv\")\n",
    "studies = pd.read_csv(\"coopersunion_eval_studies_data_201712281747.csv\")"
   ]
  },
  {
   "cell_type": "code",
   "execution_count": null,
   "metadata": {},
   "outputs": [],
   "source": [
    "print (client.shape, studies.shape)"
   ]
  },
  {
   "cell_type": "code",
   "execution_count": null,
   "metadata": {
    "collapsed": true
   },
   "outputs": [],
   "source": [
    "client['applied?'] = \"\"\n",
    "client = client[client['current_age'] != 0]"
   ]
  },
  {
   "cell_type": "code",
   "execution_count": null,
   "metadata": {},
   "outputs": [],
   "source": [
    "print (client.shape, studies.shape)"
   ]
  },
  {
   "cell_type": "code",
   "execution_count": null,
   "metadata": {},
   "outputs": [],
   "source": [
    "for ind in client.index:\n",
    "\n",
    "    activity = studies['activitytype'].loc[studies['hhid'] == client['household_id'][ind]].values\n",
    "    if 'outcome' not in activity:\n",
    "        if 'application_submission' not in activity:\n",
    "            client['applied?'][ind] = \"DNA\"\n",
    "        else:\n",
    "            client['applied?'][ind] = \"A&R\"\n",
    "    else:\n",
    "        client['applied?'][ind] = \"A&A\""
   ]
  },
  {
   "cell_type": "code",
   "execution_count": null,
   "metadata": {},
   "outputs": [],
   "source": [
    "client.head()"
   ]
  },
  {
   "cell_type": "code",
   "execution_count": null,
   "metadata": {
    "collapsed": true
   },
   "outputs": [],
   "source": [
    "client.to_csv(\"final data.csv\")"
   ]
  }
 ],
 "metadata": {
  "kernelspec": {
   "display_name": "Python 3",
   "language": "python",
   "name": "python3"
  },
  "language_info": {
   "codemirror_mode": {
    "name": "ipython",
    "version": 3
   },
   "file_extension": ".py",
   "mimetype": "text/x-python",
   "name": "python",
   "nbconvert_exporter": "python",
   "pygments_lexer": "ipython3",
   "version": "3.6.1"
  }
 },
 "nbformat": 4,
 "nbformat_minor": 2
}
